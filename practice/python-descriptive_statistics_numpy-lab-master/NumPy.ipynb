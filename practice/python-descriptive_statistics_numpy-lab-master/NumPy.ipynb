{
 "cells": [
  {
   "cell_type": "markdown",
   "metadata": {},
   "source": [
    "# Intro to NumPy\n",
    "\n",
    "NumPy is a python library for performing linear algebra calculations. It's also the foundation for many other libraries we'll be using in this course.\n",
    "\n",
    "The first step to using a library is to import it:"
   ]
  },
  {
   "cell_type": "code",
   "execution_count": null,
   "metadata": {
    "collapsed": true
   },
   "outputs": [],
   "source": [
    "import numpy as np"
   ]
  },
  {
   "cell_type": "markdown",
   "metadata": {},
   "source": [
    "Once it's imported, we'll use `np.array` to create a numpy array, which is like a python list, but with added functionality."
   ]
  },
  {
   "cell_type": "code",
   "execution_count": null,
   "metadata": {
    "collapsed": false
   },
   "outputs": [],
   "source": [
    "aa=list(range(1,21))\n",
    "aa "
   ]
  },
  {
   "cell_type": "markdown",
   "metadata": {},
   "source": [
    "Now that we have a numpy array, let's check out some of these convenience methods.\n",
    "\n",
    "## Basic Stats\n",
    "We can use `mean()` to get the average of the numbers in the list:"
   ]
  },
  {
   "cell_type": "code",
   "execution_count": null,
   "metadata": {
    "collapsed": true
   },
   "outputs": [],
   "source": []
  },
  {
   "cell_type": "markdown",
   "metadata": {},
   "source": [
    "We can use `min()` and `max()` to grab the smallest and largest numbers in the array, respectively."
   ]
  },
  {
   "cell_type": "code",
   "execution_count": null,
   "metadata": {
    "collapsed": true
   },
   "outputs": [],
   "source": []
  },
  {
   "cell_type": "code",
   "execution_count": null,
   "metadata": {
    "collapsed": true
   },
   "outputs": [],
   "source": []
  },
  {
   "cell_type": "markdown",
   "metadata": {},
   "source": [
    "`argmin()` and `argmax()` will give you the **index** of the smallest and largest numbers in the array, respectively."
   ]
  },
  {
   "cell_type": "code",
   "execution_count": null,
   "metadata": {
    "collapsed": true
   },
   "outputs": [],
   "source": []
  },
  {
   "cell_type": "code",
   "execution_count": null,
   "metadata": {
    "collapsed": true
   },
   "outputs": [],
   "source": []
  },
  {
   "cell_type": "markdown",
   "metadata": {},
   "source": [
    "Numpy has a method for creating arrays from ranges of numbers: `np.arange`. It works like `range`, except it returns a numpy array as opposed to a vanilla python list."
   ]
  },
  {
   "cell_type": "code",
   "execution_count": null,
   "metadata": {
    "collapsed": false
   },
   "outputs": [],
   "source": [
    "numlist=np.arange(1,21)\n",
    "numlist"
   ]
  },
  {
   "cell_type": "markdown",
   "metadata": {},
   "source": [
    "# Broadcasting / Scalar Math\n",
    "\n",
    "Exercise: Write a for loop to add 1 to each item in your array"
   ]
  },
  {
   "cell_type": "code",
   "execution_count": null,
   "metadata": {
    "collapsed": false
   },
   "outputs": [],
   "source": [
    "numlist_add1=[]\n",
    "for x in numlist:\n",
    "# finish it with your code  "
   ]
  },
  {
   "cell_type": "markdown",
   "metadata": {},
   "source": [
    "With numpy, we no longer have to code for loops to do these types of calculations. We can simply broadcast our arithmetic operations across the entire array:"
   ]
  },
  {
   "cell_type": "code",
   "execution_count": null,
   "metadata": {
    "collapsed": false
   },
   "outputs": [],
   "source": [
    "numlist_add1= [x+1 for x in numlist]#broadcast the arithmetic operation across the entire array\n",
    "numlist_add1"
   ]
  },
  {
   "cell_type": "markdown",
   "metadata": {},
   "source": [
    "We can also use broadcasting over a subset of an array:"
   ]
  },
  {
   "cell_type": "code",
   "execution_count": null,
   "metadata": {
    "collapsed": false
   },
   "outputs": [],
   "source": [
    "(numlist[0:4]**2)"
   ]
  },
  {
   "cell_type": "markdown",
   "metadata": {},
   "source": [
    "# Matrices vs Vectors\n",
    "\n",
    "Linear Algebra (and Data Science as an extension) uses vectors and matrices extensively. You can think of a **matrix** as an excel spreadsheet. A **vector** is a special kind of matrix in that it is a single column (or row)of data.\n",
    "\n",
    "Stated differently, matrix = many columns, vector = single column.\n",
    "\n",
    "We can can use the `reshape` method to create a matrix from an array."
   ]
  },
  {
   "cell_type": "code",
   "execution_count": null,
   "metadata": {
    "collapsed": false
   },
   "outputs": [],
   "source": [
    "mm=np.arange(1,101)\n",
    "mm\n",
    "matrix50=mm.reshape(10,10)\n",
    "matrix50"
   ]
  },
  {
   "cell_type": "markdown",
   "metadata": {},
   "source": [
    "# Transposing Matrices\n",
    "\n",
    "Transposing is when a matrix is flipped along it's top-left to bottom-right diagonal. We use `T` on a numpy array to accomplish this task."
   ]
  },
  {
   "cell_type": "code",
   "execution_count": null,
   "metadata": {
    "collapsed": false
   },
   "outputs": [],
   "source": [
    "matrix50.T"
   ]
  },
  {
   "cell_type": "markdown",
   "metadata": {},
   "source": [
    "# Slicing\n",
    "\n",
    "Slicing numpy arrays is similar to slicing lists. We can get a single item by using bracket notation. \n",
    "\n",
    "**Practice:** Create a numpy array and grab the second item from that array."
   ]
  },
  {
   "cell_type": "code",
   "execution_count": null,
   "metadata": {
    "collapsed": false
   },
   "outputs": [],
   "source": []
  },
  {
   "cell_type": "markdown",
   "metadata": {},
   "source": [
    "You can also slice an array using a range of indices.\n",
    "\n",
    "**Practice:** Grab the second through fifth items from your array."
   ]
  },
  {
   "cell_type": "code",
   "execution_count": null,
   "metadata": {
    "collapsed": false
   },
   "outputs": [],
   "source": []
  },
  {
   "cell_type": "markdown",
   "metadata": {},
   "source": [
    "# Slicing Matrices\n",
    "\n",
    "We still use bracket notation for slicing matrices, only now we separate our row slicing from column slicing with a comma."
   ]
  },
  {
   "cell_type": "code",
   "execution_count": null,
   "metadata": {
    "collapsed": false
   },
   "outputs": [],
   "source": [
    "yy=matrix50[:,4:5]\n",
    "yy"
   ]
  },
  {
   "cell_type": "markdown",
   "metadata": {},
   "source": [
    "# Boolean Selection\n",
    "\n",
    "We can broadcast a boolean expression to filter a numpy array:"
   ]
  },
  {
   "cell_type": "code",
   "execution_count": null,
   "metadata": {
    "collapsed": false
   },
   "outputs": [],
   "source": [
    "matrix46= matrix50[(matrix50>46)&(matrix50<56)]\n",
    "matrix46"
   ]
  },
  {
   "cell_type": "code",
   "execution_count": null,
   "metadata": {
    "collapsed": false
   },
   "outputs": [],
   "source": [
    "odd_cond= matrix50%2==1\n",
    "odd_cond\n",
    "matrix50[odd_cond]"
   ]
  },
  {
   "cell_type": "markdown",
   "metadata": {},
   "source": [
    "# Views vs Copy"
   ]
  },
  {
   "cell_type": "markdown",
   "metadata": {},
   "source": [
    "## no copy"
   ]
  },
  {
   "cell_type": "code",
   "execution_count": null,
   "metadata": {
    "collapsed": false
   },
   "outputs": [],
   "source": [
    "a10=np.arange(1,11)\n",
    "b10 = a10 # no copy, change in value and shape affect both\n",
    "b10[2] = 20\n",
    "print(a10[2])   # is a10 value got changed ?\n",
    "b10.shape = 2,5\n",
    "a10.shape # a10 shape also got changed?\n"
   ]
  },
  {
   "cell_type": "markdown",
   "metadata": {},
   "source": [
    "## view (shallow copy)"
   ]
  },
  {
   "cell_type": "code",
   "execution_count": null,
   "metadata": {
    "collapsed": false
   },
   "outputs": [],
   "source": [
    "a10=np.arange(1,11)\n",
    "b10view = a10.view() # shallow copy: change in value affect both but not shape\n",
    "b10view[3]=30\n",
    "print(a10[3])\n",
    "b10view.shape = 2,5\n",
    "a10.shape"
   ]
  },
  {
   "cell_type": "markdown",
   "metadata": {},
   "source": [
    "## copy (deep copy)"
   ]
  },
  {
   "cell_type": "code",
   "execution_count": null,
   "metadata": {
    "collapsed": false
   },
   "outputs": [],
   "source": [
    "a10=np.arange(1,11)\n",
    "b10copy = a10.copy()#copy: two copies of data does not affect each other in value or shape change\n",
    "b10copy[2]=20\n",
    "print(a10[2])\n",
    "b10copy.shape = 2,5\n",
    "a10.shape"
   ]
  },
  {
   "cell_type": "code",
   "execution_count": null,
   "metadata": {
    "collapsed": true
   },
   "outputs": [],
   "source": []
  }
 ],
 "metadata": {
  "anaconda-cloud": {},
  "kernelspec": {
   "display_name": "Python [default]",
   "language": "python",
   "name": "python3"
  },
  "language_info": {
   "codemirror_mode": {
    "name": "ipython",
    "version": 3
   },
   "file_extension": ".py",
   "mimetype": "text/x-python",
   "name": "python",
   "nbconvert_exporter": "python",
   "pygments_lexer": "ipython3",
   "version": "3.5.2"
  }
 },
 "nbformat": 4,
 "nbformat_minor": 1
}
